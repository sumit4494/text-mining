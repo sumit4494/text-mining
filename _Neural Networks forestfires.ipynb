{
 "cells": [
  {
   "cell_type": "code",
   "execution_count": 235,
   "metadata": {},
   "outputs": [],
   "source": [
    "import numpy as np"
   ]
  },
  {
   "cell_type": "code",
   "execution_count": 2,
   "metadata": {},
   "outputs": [],
   "source": [
    "import pandas as pd"
   ]
  },
  {
   "cell_type": "code",
   "execution_count": 3,
   "metadata": {},
   "outputs": [],
   "source": [
    "data=pd.read_csv(r\"C:\\Users\\dell\\Downloads\\forestfires.csv\")"
   ]
  },
  {
   "cell_type": "code",
   "execution_count": 4,
   "metadata": {},
   "outputs": [
    {
     "data": {
      "text/html": [
       "<div>\n",
       "<style scoped>\n",
       "    .dataframe tbody tr th:only-of-type {\n",
       "        vertical-align: middle;\n",
       "    }\n",
       "\n",
       "    .dataframe tbody tr th {\n",
       "        vertical-align: top;\n",
       "    }\n",
       "\n",
       "    .dataframe thead th {\n",
       "        text-align: right;\n",
       "    }\n",
       "</style>\n",
       "<table border=\"1\" class=\"dataframe\">\n",
       "  <thead>\n",
       "    <tr style=\"text-align: right;\">\n",
       "      <th></th>\n",
       "      <th>month</th>\n",
       "      <th>day</th>\n",
       "      <th>FFMC</th>\n",
       "      <th>DMC</th>\n",
       "      <th>DC</th>\n",
       "      <th>ISI</th>\n",
       "      <th>temp</th>\n",
       "      <th>RH</th>\n",
       "      <th>wind</th>\n",
       "      <th>rain</th>\n",
       "      <th>...</th>\n",
       "      <th>monthfeb</th>\n",
       "      <th>monthjan</th>\n",
       "      <th>monthjul</th>\n",
       "      <th>monthjun</th>\n",
       "      <th>monthmar</th>\n",
       "      <th>monthmay</th>\n",
       "      <th>monthnov</th>\n",
       "      <th>monthoct</th>\n",
       "      <th>monthsep</th>\n",
       "      <th>size_category</th>\n",
       "    </tr>\n",
       "  </thead>\n",
       "  <tbody>\n",
       "    <tr>\n",
       "      <th>0</th>\n",
       "      <td>mar</td>\n",
       "      <td>fri</td>\n",
       "      <td>86.2</td>\n",
       "      <td>26.2</td>\n",
       "      <td>94.3</td>\n",
       "      <td>5.1</td>\n",
       "      <td>8.2</td>\n",
       "      <td>51</td>\n",
       "      <td>6.7</td>\n",
       "      <td>0.0</td>\n",
       "      <td>...</td>\n",
       "      <td>0</td>\n",
       "      <td>0</td>\n",
       "      <td>0</td>\n",
       "      <td>0</td>\n",
       "      <td>1</td>\n",
       "      <td>0</td>\n",
       "      <td>0</td>\n",
       "      <td>0</td>\n",
       "      <td>0</td>\n",
       "      <td>small</td>\n",
       "    </tr>\n",
       "    <tr>\n",
       "      <th>1</th>\n",
       "      <td>oct</td>\n",
       "      <td>tue</td>\n",
       "      <td>90.6</td>\n",
       "      <td>35.4</td>\n",
       "      <td>669.1</td>\n",
       "      <td>6.7</td>\n",
       "      <td>18.0</td>\n",
       "      <td>33</td>\n",
       "      <td>0.9</td>\n",
       "      <td>0.0</td>\n",
       "      <td>...</td>\n",
       "      <td>0</td>\n",
       "      <td>0</td>\n",
       "      <td>0</td>\n",
       "      <td>0</td>\n",
       "      <td>0</td>\n",
       "      <td>0</td>\n",
       "      <td>0</td>\n",
       "      <td>1</td>\n",
       "      <td>0</td>\n",
       "      <td>small</td>\n",
       "    </tr>\n",
       "    <tr>\n",
       "      <th>2</th>\n",
       "      <td>oct</td>\n",
       "      <td>sat</td>\n",
       "      <td>90.6</td>\n",
       "      <td>43.7</td>\n",
       "      <td>686.9</td>\n",
       "      <td>6.7</td>\n",
       "      <td>14.6</td>\n",
       "      <td>33</td>\n",
       "      <td>1.3</td>\n",
       "      <td>0.0</td>\n",
       "      <td>...</td>\n",
       "      <td>0</td>\n",
       "      <td>0</td>\n",
       "      <td>0</td>\n",
       "      <td>0</td>\n",
       "      <td>0</td>\n",
       "      <td>0</td>\n",
       "      <td>0</td>\n",
       "      <td>1</td>\n",
       "      <td>0</td>\n",
       "      <td>small</td>\n",
       "    </tr>\n",
       "    <tr>\n",
       "      <th>3</th>\n",
       "      <td>mar</td>\n",
       "      <td>fri</td>\n",
       "      <td>91.7</td>\n",
       "      <td>33.3</td>\n",
       "      <td>77.5</td>\n",
       "      <td>9.0</td>\n",
       "      <td>8.3</td>\n",
       "      <td>97</td>\n",
       "      <td>4.0</td>\n",
       "      <td>0.2</td>\n",
       "      <td>...</td>\n",
       "      <td>0</td>\n",
       "      <td>0</td>\n",
       "      <td>0</td>\n",
       "      <td>0</td>\n",
       "      <td>1</td>\n",
       "      <td>0</td>\n",
       "      <td>0</td>\n",
       "      <td>0</td>\n",
       "      <td>0</td>\n",
       "      <td>small</td>\n",
       "    </tr>\n",
       "    <tr>\n",
       "      <th>4</th>\n",
       "      <td>mar</td>\n",
       "      <td>sun</td>\n",
       "      <td>89.3</td>\n",
       "      <td>51.3</td>\n",
       "      <td>102.2</td>\n",
       "      <td>9.6</td>\n",
       "      <td>11.4</td>\n",
       "      <td>99</td>\n",
       "      <td>1.8</td>\n",
       "      <td>0.0</td>\n",
       "      <td>...</td>\n",
       "      <td>0</td>\n",
       "      <td>0</td>\n",
       "      <td>0</td>\n",
       "      <td>0</td>\n",
       "      <td>1</td>\n",
       "      <td>0</td>\n",
       "      <td>0</td>\n",
       "      <td>0</td>\n",
       "      <td>0</td>\n",
       "      <td>small</td>\n",
       "    </tr>\n",
       "    <tr>\n",
       "      <th>...</th>\n",
       "      <td>...</td>\n",
       "      <td>...</td>\n",
       "      <td>...</td>\n",
       "      <td>...</td>\n",
       "      <td>...</td>\n",
       "      <td>...</td>\n",
       "      <td>...</td>\n",
       "      <td>...</td>\n",
       "      <td>...</td>\n",
       "      <td>...</td>\n",
       "      <td>...</td>\n",
       "      <td>...</td>\n",
       "      <td>...</td>\n",
       "      <td>...</td>\n",
       "      <td>...</td>\n",
       "      <td>...</td>\n",
       "      <td>...</td>\n",
       "      <td>...</td>\n",
       "      <td>...</td>\n",
       "      <td>...</td>\n",
       "      <td>...</td>\n",
       "    </tr>\n",
       "    <tr>\n",
       "      <th>512</th>\n",
       "      <td>aug</td>\n",
       "      <td>sun</td>\n",
       "      <td>81.6</td>\n",
       "      <td>56.7</td>\n",
       "      <td>665.6</td>\n",
       "      <td>1.9</td>\n",
       "      <td>27.8</td>\n",
       "      <td>32</td>\n",
       "      <td>2.7</td>\n",
       "      <td>0.0</td>\n",
       "      <td>...</td>\n",
       "      <td>0</td>\n",
       "      <td>0</td>\n",
       "      <td>0</td>\n",
       "      <td>0</td>\n",
       "      <td>0</td>\n",
       "      <td>0</td>\n",
       "      <td>0</td>\n",
       "      <td>0</td>\n",
       "      <td>0</td>\n",
       "      <td>large</td>\n",
       "    </tr>\n",
       "    <tr>\n",
       "      <th>513</th>\n",
       "      <td>aug</td>\n",
       "      <td>sun</td>\n",
       "      <td>81.6</td>\n",
       "      <td>56.7</td>\n",
       "      <td>665.6</td>\n",
       "      <td>1.9</td>\n",
       "      <td>21.9</td>\n",
       "      <td>71</td>\n",
       "      <td>5.8</td>\n",
       "      <td>0.0</td>\n",
       "      <td>...</td>\n",
       "      <td>0</td>\n",
       "      <td>0</td>\n",
       "      <td>0</td>\n",
       "      <td>0</td>\n",
       "      <td>0</td>\n",
       "      <td>0</td>\n",
       "      <td>0</td>\n",
       "      <td>0</td>\n",
       "      <td>0</td>\n",
       "      <td>large</td>\n",
       "    </tr>\n",
       "    <tr>\n",
       "      <th>514</th>\n",
       "      <td>aug</td>\n",
       "      <td>sun</td>\n",
       "      <td>81.6</td>\n",
       "      <td>56.7</td>\n",
       "      <td>665.6</td>\n",
       "      <td>1.9</td>\n",
       "      <td>21.2</td>\n",
       "      <td>70</td>\n",
       "      <td>6.7</td>\n",
       "      <td>0.0</td>\n",
       "      <td>...</td>\n",
       "      <td>0</td>\n",
       "      <td>0</td>\n",
       "      <td>0</td>\n",
       "      <td>0</td>\n",
       "      <td>0</td>\n",
       "      <td>0</td>\n",
       "      <td>0</td>\n",
       "      <td>0</td>\n",
       "      <td>0</td>\n",
       "      <td>large</td>\n",
       "    </tr>\n",
       "    <tr>\n",
       "      <th>515</th>\n",
       "      <td>aug</td>\n",
       "      <td>sat</td>\n",
       "      <td>94.4</td>\n",
       "      <td>146.0</td>\n",
       "      <td>614.7</td>\n",
       "      <td>11.3</td>\n",
       "      <td>25.6</td>\n",
       "      <td>42</td>\n",
       "      <td>4.0</td>\n",
       "      <td>0.0</td>\n",
       "      <td>...</td>\n",
       "      <td>0</td>\n",
       "      <td>0</td>\n",
       "      <td>0</td>\n",
       "      <td>0</td>\n",
       "      <td>0</td>\n",
       "      <td>0</td>\n",
       "      <td>0</td>\n",
       "      <td>0</td>\n",
       "      <td>0</td>\n",
       "      <td>small</td>\n",
       "    </tr>\n",
       "    <tr>\n",
       "      <th>516</th>\n",
       "      <td>nov</td>\n",
       "      <td>tue</td>\n",
       "      <td>79.5</td>\n",
       "      <td>3.0</td>\n",
       "      <td>106.7</td>\n",
       "      <td>1.1</td>\n",
       "      <td>11.8</td>\n",
       "      <td>31</td>\n",
       "      <td>4.5</td>\n",
       "      <td>0.0</td>\n",
       "      <td>...</td>\n",
       "      <td>0</td>\n",
       "      <td>0</td>\n",
       "      <td>0</td>\n",
       "      <td>0</td>\n",
       "      <td>0</td>\n",
       "      <td>0</td>\n",
       "      <td>1</td>\n",
       "      <td>0</td>\n",
       "      <td>0</td>\n",
       "      <td>small</td>\n",
       "    </tr>\n",
       "  </tbody>\n",
       "</table>\n",
       "<p>517 rows × 31 columns</p>\n",
       "</div>"
      ],
      "text/plain": [
       "    month  day  FFMC    DMC     DC   ISI  temp  RH  wind  rain  ...  monthfeb  \\\n",
       "0     mar  fri  86.2   26.2   94.3   5.1   8.2  51   6.7   0.0  ...         0   \n",
       "1     oct  tue  90.6   35.4  669.1   6.7  18.0  33   0.9   0.0  ...         0   \n",
       "2     oct  sat  90.6   43.7  686.9   6.7  14.6  33   1.3   0.0  ...         0   \n",
       "3     mar  fri  91.7   33.3   77.5   9.0   8.3  97   4.0   0.2  ...         0   \n",
       "4     mar  sun  89.3   51.3  102.2   9.6  11.4  99   1.8   0.0  ...         0   \n",
       "..    ...  ...   ...    ...    ...   ...   ...  ..   ...   ...  ...       ...   \n",
       "512   aug  sun  81.6   56.7  665.6   1.9  27.8  32   2.7   0.0  ...         0   \n",
       "513   aug  sun  81.6   56.7  665.6   1.9  21.9  71   5.8   0.0  ...         0   \n",
       "514   aug  sun  81.6   56.7  665.6   1.9  21.2  70   6.7   0.0  ...         0   \n",
       "515   aug  sat  94.4  146.0  614.7  11.3  25.6  42   4.0   0.0  ...         0   \n",
       "516   nov  tue  79.5    3.0  106.7   1.1  11.8  31   4.5   0.0  ...         0   \n",
       "\n",
       "     monthjan  monthjul  monthjun  monthmar  monthmay  monthnov  monthoct  \\\n",
       "0           0         0         0         1         0         0         0   \n",
       "1           0         0         0         0         0         0         1   \n",
       "2           0         0         0         0         0         0         1   \n",
       "3           0         0         0         1         0         0         0   \n",
       "4           0         0         0         1         0         0         0   \n",
       "..        ...       ...       ...       ...       ...       ...       ...   \n",
       "512         0         0         0         0         0         0         0   \n",
       "513         0         0         0         0         0         0         0   \n",
       "514         0         0         0         0         0         0         0   \n",
       "515         0         0         0         0         0         0         0   \n",
       "516         0         0         0         0         0         1         0   \n",
       "\n",
       "     monthsep  size_category  \n",
       "0           0          small  \n",
       "1           0          small  \n",
       "2           0          small  \n",
       "3           0          small  \n",
       "4           0          small  \n",
       "..        ...            ...  \n",
       "512         0          large  \n",
       "513         0          large  \n",
       "514         0          large  \n",
       "515         0          small  \n",
       "516         0          small  \n",
       "\n",
       "[517 rows x 31 columns]"
      ]
     },
     "execution_count": 4,
     "metadata": {},
     "output_type": "execute_result"
    }
   ],
   "source": [
    "data"
   ]
  },
  {
   "cell_type": "code",
   "execution_count": 5,
   "metadata": {},
   "outputs": [],
   "source": [
    "data1=data.drop(['month'],axis=1)"
   ]
  },
  {
   "cell_type": "code",
   "execution_count": 6,
   "metadata": {},
   "outputs": [],
   "source": [
    "data_final=data1.drop(['day'],axis=1)"
   ]
  },
  {
   "cell_type": "code",
   "execution_count": 13,
   "metadata": {},
   "outputs": [
    {
     "data": {
      "text/html": [
       "<div>\n",
       "<style scoped>\n",
       "    .dataframe tbody tr th:only-of-type {\n",
       "        vertical-align: middle;\n",
       "    }\n",
       "\n",
       "    .dataframe tbody tr th {\n",
       "        vertical-align: top;\n",
       "    }\n",
       "\n",
       "    .dataframe thead th {\n",
       "        text-align: right;\n",
       "    }\n",
       "</style>\n",
       "<table border=\"1\" class=\"dataframe\">\n",
       "  <thead>\n",
       "    <tr style=\"text-align: right;\">\n",
       "      <th></th>\n",
       "      <th>FFMC</th>\n",
       "      <th>DMC</th>\n",
       "      <th>DC</th>\n",
       "      <th>ISI</th>\n",
       "      <th>temp</th>\n",
       "      <th>RH</th>\n",
       "      <th>wind</th>\n",
       "      <th>rain</th>\n",
       "      <th>area</th>\n",
       "      <th>dayfri</th>\n",
       "      <th>...</th>\n",
       "      <th>monthfeb</th>\n",
       "      <th>monthjan</th>\n",
       "      <th>monthjul</th>\n",
       "      <th>monthjun</th>\n",
       "      <th>monthmar</th>\n",
       "      <th>monthmay</th>\n",
       "      <th>monthnov</th>\n",
       "      <th>monthoct</th>\n",
       "      <th>monthsep</th>\n",
       "      <th>size_category</th>\n",
       "    </tr>\n",
       "  </thead>\n",
       "  <tbody>\n",
       "    <tr>\n",
       "      <th>0</th>\n",
       "      <td>86.2</td>\n",
       "      <td>26.2</td>\n",
       "      <td>94.3</td>\n",
       "      <td>5.1</td>\n",
       "      <td>8.2</td>\n",
       "      <td>51</td>\n",
       "      <td>6.7</td>\n",
       "      <td>0.0</td>\n",
       "      <td>0.00</td>\n",
       "      <td>1</td>\n",
       "      <td>...</td>\n",
       "      <td>0</td>\n",
       "      <td>0</td>\n",
       "      <td>0</td>\n",
       "      <td>0</td>\n",
       "      <td>1</td>\n",
       "      <td>0</td>\n",
       "      <td>0</td>\n",
       "      <td>0</td>\n",
       "      <td>0</td>\n",
       "      <td>small</td>\n",
       "    </tr>\n",
       "    <tr>\n",
       "      <th>1</th>\n",
       "      <td>90.6</td>\n",
       "      <td>35.4</td>\n",
       "      <td>669.1</td>\n",
       "      <td>6.7</td>\n",
       "      <td>18.0</td>\n",
       "      <td>33</td>\n",
       "      <td>0.9</td>\n",
       "      <td>0.0</td>\n",
       "      <td>0.00</td>\n",
       "      <td>0</td>\n",
       "      <td>...</td>\n",
       "      <td>0</td>\n",
       "      <td>0</td>\n",
       "      <td>0</td>\n",
       "      <td>0</td>\n",
       "      <td>0</td>\n",
       "      <td>0</td>\n",
       "      <td>0</td>\n",
       "      <td>1</td>\n",
       "      <td>0</td>\n",
       "      <td>small</td>\n",
       "    </tr>\n",
       "    <tr>\n",
       "      <th>2</th>\n",
       "      <td>90.6</td>\n",
       "      <td>43.7</td>\n",
       "      <td>686.9</td>\n",
       "      <td>6.7</td>\n",
       "      <td>14.6</td>\n",
       "      <td>33</td>\n",
       "      <td>1.3</td>\n",
       "      <td>0.0</td>\n",
       "      <td>0.00</td>\n",
       "      <td>0</td>\n",
       "      <td>...</td>\n",
       "      <td>0</td>\n",
       "      <td>0</td>\n",
       "      <td>0</td>\n",
       "      <td>0</td>\n",
       "      <td>0</td>\n",
       "      <td>0</td>\n",
       "      <td>0</td>\n",
       "      <td>1</td>\n",
       "      <td>0</td>\n",
       "      <td>small</td>\n",
       "    </tr>\n",
       "    <tr>\n",
       "      <th>3</th>\n",
       "      <td>91.7</td>\n",
       "      <td>33.3</td>\n",
       "      <td>77.5</td>\n",
       "      <td>9.0</td>\n",
       "      <td>8.3</td>\n",
       "      <td>97</td>\n",
       "      <td>4.0</td>\n",
       "      <td>0.2</td>\n",
       "      <td>0.00</td>\n",
       "      <td>1</td>\n",
       "      <td>...</td>\n",
       "      <td>0</td>\n",
       "      <td>0</td>\n",
       "      <td>0</td>\n",
       "      <td>0</td>\n",
       "      <td>1</td>\n",
       "      <td>0</td>\n",
       "      <td>0</td>\n",
       "      <td>0</td>\n",
       "      <td>0</td>\n",
       "      <td>small</td>\n",
       "    </tr>\n",
       "    <tr>\n",
       "      <th>4</th>\n",
       "      <td>89.3</td>\n",
       "      <td>51.3</td>\n",
       "      <td>102.2</td>\n",
       "      <td>9.6</td>\n",
       "      <td>11.4</td>\n",
       "      <td>99</td>\n",
       "      <td>1.8</td>\n",
       "      <td>0.0</td>\n",
       "      <td>0.00</td>\n",
       "      <td>0</td>\n",
       "      <td>...</td>\n",
       "      <td>0</td>\n",
       "      <td>0</td>\n",
       "      <td>0</td>\n",
       "      <td>0</td>\n",
       "      <td>1</td>\n",
       "      <td>0</td>\n",
       "      <td>0</td>\n",
       "      <td>0</td>\n",
       "      <td>0</td>\n",
       "      <td>small</td>\n",
       "    </tr>\n",
       "    <tr>\n",
       "      <th>...</th>\n",
       "      <td>...</td>\n",
       "      <td>...</td>\n",
       "      <td>...</td>\n",
       "      <td>...</td>\n",
       "      <td>...</td>\n",
       "      <td>...</td>\n",
       "      <td>...</td>\n",
       "      <td>...</td>\n",
       "      <td>...</td>\n",
       "      <td>...</td>\n",
       "      <td>...</td>\n",
       "      <td>...</td>\n",
       "      <td>...</td>\n",
       "      <td>...</td>\n",
       "      <td>...</td>\n",
       "      <td>...</td>\n",
       "      <td>...</td>\n",
       "      <td>...</td>\n",
       "      <td>...</td>\n",
       "      <td>...</td>\n",
       "      <td>...</td>\n",
       "    </tr>\n",
       "    <tr>\n",
       "      <th>512</th>\n",
       "      <td>81.6</td>\n",
       "      <td>56.7</td>\n",
       "      <td>665.6</td>\n",
       "      <td>1.9</td>\n",
       "      <td>27.8</td>\n",
       "      <td>32</td>\n",
       "      <td>2.7</td>\n",
       "      <td>0.0</td>\n",
       "      <td>6.44</td>\n",
       "      <td>0</td>\n",
       "      <td>...</td>\n",
       "      <td>0</td>\n",
       "      <td>0</td>\n",
       "      <td>0</td>\n",
       "      <td>0</td>\n",
       "      <td>0</td>\n",
       "      <td>0</td>\n",
       "      <td>0</td>\n",
       "      <td>0</td>\n",
       "      <td>0</td>\n",
       "      <td>large</td>\n",
       "    </tr>\n",
       "    <tr>\n",
       "      <th>513</th>\n",
       "      <td>81.6</td>\n",
       "      <td>56.7</td>\n",
       "      <td>665.6</td>\n",
       "      <td>1.9</td>\n",
       "      <td>21.9</td>\n",
       "      <td>71</td>\n",
       "      <td>5.8</td>\n",
       "      <td>0.0</td>\n",
       "      <td>54.29</td>\n",
       "      <td>0</td>\n",
       "      <td>...</td>\n",
       "      <td>0</td>\n",
       "      <td>0</td>\n",
       "      <td>0</td>\n",
       "      <td>0</td>\n",
       "      <td>0</td>\n",
       "      <td>0</td>\n",
       "      <td>0</td>\n",
       "      <td>0</td>\n",
       "      <td>0</td>\n",
       "      <td>large</td>\n",
       "    </tr>\n",
       "    <tr>\n",
       "      <th>514</th>\n",
       "      <td>81.6</td>\n",
       "      <td>56.7</td>\n",
       "      <td>665.6</td>\n",
       "      <td>1.9</td>\n",
       "      <td>21.2</td>\n",
       "      <td>70</td>\n",
       "      <td>6.7</td>\n",
       "      <td>0.0</td>\n",
       "      <td>11.16</td>\n",
       "      <td>0</td>\n",
       "      <td>...</td>\n",
       "      <td>0</td>\n",
       "      <td>0</td>\n",
       "      <td>0</td>\n",
       "      <td>0</td>\n",
       "      <td>0</td>\n",
       "      <td>0</td>\n",
       "      <td>0</td>\n",
       "      <td>0</td>\n",
       "      <td>0</td>\n",
       "      <td>large</td>\n",
       "    </tr>\n",
       "    <tr>\n",
       "      <th>515</th>\n",
       "      <td>94.4</td>\n",
       "      <td>146.0</td>\n",
       "      <td>614.7</td>\n",
       "      <td>11.3</td>\n",
       "      <td>25.6</td>\n",
       "      <td>42</td>\n",
       "      <td>4.0</td>\n",
       "      <td>0.0</td>\n",
       "      <td>0.00</td>\n",
       "      <td>0</td>\n",
       "      <td>...</td>\n",
       "      <td>0</td>\n",
       "      <td>0</td>\n",
       "      <td>0</td>\n",
       "      <td>0</td>\n",
       "      <td>0</td>\n",
       "      <td>0</td>\n",
       "      <td>0</td>\n",
       "      <td>0</td>\n",
       "      <td>0</td>\n",
       "      <td>small</td>\n",
       "    </tr>\n",
       "    <tr>\n",
       "      <th>516</th>\n",
       "      <td>79.5</td>\n",
       "      <td>3.0</td>\n",
       "      <td>106.7</td>\n",
       "      <td>1.1</td>\n",
       "      <td>11.8</td>\n",
       "      <td>31</td>\n",
       "      <td>4.5</td>\n",
       "      <td>0.0</td>\n",
       "      <td>0.00</td>\n",
       "      <td>0</td>\n",
       "      <td>...</td>\n",
       "      <td>0</td>\n",
       "      <td>0</td>\n",
       "      <td>0</td>\n",
       "      <td>0</td>\n",
       "      <td>0</td>\n",
       "      <td>0</td>\n",
       "      <td>1</td>\n",
       "      <td>0</td>\n",
       "      <td>0</td>\n",
       "      <td>small</td>\n",
       "    </tr>\n",
       "  </tbody>\n",
       "</table>\n",
       "<p>517 rows × 29 columns</p>\n",
       "</div>"
      ],
      "text/plain": [
       "     FFMC    DMC     DC   ISI  temp  RH  wind  rain   area  dayfri  ...  \\\n",
       "0    86.2   26.2   94.3   5.1   8.2  51   6.7   0.0   0.00       1  ...   \n",
       "1    90.6   35.4  669.1   6.7  18.0  33   0.9   0.0   0.00       0  ...   \n",
       "2    90.6   43.7  686.9   6.7  14.6  33   1.3   0.0   0.00       0  ...   \n",
       "3    91.7   33.3   77.5   9.0   8.3  97   4.0   0.2   0.00       1  ...   \n",
       "4    89.3   51.3  102.2   9.6  11.4  99   1.8   0.0   0.00       0  ...   \n",
       "..    ...    ...    ...   ...   ...  ..   ...   ...    ...     ...  ...   \n",
       "512  81.6   56.7  665.6   1.9  27.8  32   2.7   0.0   6.44       0  ...   \n",
       "513  81.6   56.7  665.6   1.9  21.9  71   5.8   0.0  54.29       0  ...   \n",
       "514  81.6   56.7  665.6   1.9  21.2  70   6.7   0.0  11.16       0  ...   \n",
       "515  94.4  146.0  614.7  11.3  25.6  42   4.0   0.0   0.00       0  ...   \n",
       "516  79.5    3.0  106.7   1.1  11.8  31   4.5   0.0   0.00       0  ...   \n",
       "\n",
       "     monthfeb  monthjan  monthjul  monthjun  monthmar  monthmay  monthnov  \\\n",
       "0           0         0         0         0         1         0         0   \n",
       "1           0         0         0         0         0         0         0   \n",
       "2           0         0         0         0         0         0         0   \n",
       "3           0         0         0         0         1         0         0   \n",
       "4           0         0         0         0         1         0         0   \n",
       "..        ...       ...       ...       ...       ...       ...       ...   \n",
       "512         0         0         0         0         0         0         0   \n",
       "513         0         0         0         0         0         0         0   \n",
       "514         0         0         0         0         0         0         0   \n",
       "515         0         0         0         0         0         0         0   \n",
       "516         0         0         0         0         0         0         1   \n",
       "\n",
       "     monthoct  monthsep  size_category  \n",
       "0           0         0          small  \n",
       "1           1         0          small  \n",
       "2           1         0          small  \n",
       "3           0         0          small  \n",
       "4           0         0          small  \n",
       "..        ...       ...            ...  \n",
       "512         0         0          large  \n",
       "513         0         0          large  \n",
       "514         0         0          large  \n",
       "515         0         0          small  \n",
       "516         0         0          small  \n",
       "\n",
       "[517 rows x 29 columns]"
      ]
     },
     "execution_count": 13,
     "metadata": {},
     "output_type": "execute_result"
    }
   ],
   "source": [
    "data_final"
   ]
  },
  {
   "cell_type": "code",
   "execution_count": 14,
   "metadata": {},
   "outputs": [],
   "source": [
    "import seaborn as sns"
   ]
  },
  {
   "cell_type": "code",
   "execution_count": 15,
   "metadata": {},
   "outputs": [
    {
     "data": {
      "text/plain": [
       "<matplotlib.axes._subplots.AxesSubplot at 0x1b289d92b08>"
      ]
     },
     "execution_count": 15,
     "metadata": {},
     "output_type": "execute_result"
    },
    {
     "data": {
      "image/png": "[encoded data removed]",
      "text/plain": [
       "<Figure size 432x288 with 2 Axes>"
      ]
     },
     "metadata": {
      "needs_background": "light"
     },
     "output_type": "display_data"
    }
   ],
   "source": [
    "sns.heatmap(data_final.corr())"
   ]
  },
  {
   "cell_type": "code",
   "execution_count": 7,
   "metadata": {},
   "outputs": [],
   "source": [
    "final_data=data_final.drop(['size_category'],axis=1)"
   ]
  },
  {
   "cell_type": "code",
   "execution_count": 8,
   "metadata": {},
   "outputs": [],
   "source": [
    "from sklearn.preprocessing import MinMaxScaler"
   ]
  },
  {
   "cell_type": "code",
   "execution_count": 10,
   "metadata": {},
   "outputs": [],
   "source": [
    "scaler=MinMaxScaler()"
   ]
  },
  {
   "cell_type": "code",
   "execution_count": 13,
   "metadata": {},
   "outputs": [],
   "source": [
    "x=scaler.fit_transform(final_data)"
   ]
  },
  {
   "cell_type": "code",
   "execution_count": 14,
   "metadata": {},
   "outputs": [
    {
     "data": {
      "text/plain": [
       "array([[0.87096774, 0.08649207, 0.1013252 , ..., 0.        , 0.        ,\n",
       "        0.        ],\n",
       "       [0.92774194, 0.11819435, 0.77541926, ..., 0.        , 1.        ,\n",
       "        0.        ],\n",
       "       [0.92774194, 0.14679531, 0.79629412, ..., 0.        , 1.        ,\n",
       "        0.        ],\n",
       "       ...,\n",
       "       [0.8116129 , 0.19159201, 0.77131465, ..., 0.        , 0.        ,\n",
       "        0.        ],\n",
       "       [0.97677419, 0.49931082, 0.71162191, ..., 0.        , 0.        ,\n",
       "        0.        ],\n",
       "       [0.78451613, 0.00654721, 0.11586725, ..., 1.        , 0.        ,\n",
       "        0.        ]])"
      ]
     },
     "execution_count": 14,
     "metadata": {},
     "output_type": "execute_result"
    }
   ],
   "source": [
    "x"
   ]
  },
  {
   "cell_type": "code",
   "execution_count": 32,
   "metadata": {},
   "outputs": [],
   "source": [
    "from sklearn.preprocessing import LabelEncoder"
   ]
  },
  {
   "cell_type": "code",
   "execution_count": 34,
   "metadata": {},
   "outputs": [],
   "source": [
    "encoder=LabelEncoder()"
   ]
  },
  {
   "cell_type": "code",
   "execution_count": 15,
   "metadata": {},
   "outputs": [],
   "source": [
    "y=data_final['size_category']"
   ]
  },
  {
   "cell_type": "code",
   "execution_count": 37,
   "metadata": {},
   "outputs": [],
   "source": [
    "y=encoder.fit_transform(y)"
   ]
  },
  {
   "cell_type": "code",
   "execution_count": 38,
   "metadata": {},
   "outputs": [
    {
     "data": {
      "text/plain": [
       "numpy.ndarray"
      ]
     },
     "execution_count": 38,
     "metadata": {},
     "output_type": "execute_result"
    }
   ],
   "source": [
    "type(y)"
   ]
  },
  {
   "cell_type": "code",
   "execution_count": 39,
   "metadata": {},
   "outputs": [],
   "source": [
    "a=pd.DataFrame(y)"
   ]
  },
  {
   "cell_type": "code",
   "execution_count": 40,
   "metadata": {},
   "outputs": [],
   "source": [
    "from sklearn.model_selection import train_test_split"
   ]
  },
  {
   "cell_type": "code",
   "execution_count": 205,
   "metadata": {},
   "outputs": [],
   "source": [
    "x_train,x_test,y_train,y_test= train_test_split(x,a,test_size = 0.3,random_state = 42)"
   ]
  },
  {
   "cell_type": "code",
   "execution_count": 183,
   "metadata": {},
   "outputs": [],
   "source": [
    "y_train = keras.utils.to_categorical(y_train)\n",
    "y_test = keras.utils.to_categorical(y_test)"
   ]
  },
  {
   "cell_type": "code",
   "execution_count": 203,
   "metadata": {},
   "outputs": [
    {
     "data": {
      "text/plain": [
       "(361, 1)"
      ]
     },
     "execution_count": 203,
     "metadata": {},
     "output_type": "execute_result"
    }
   ],
   "source": [
    "y_train.shape"
   ]
  },
  {
   "cell_type": "raw",
   "metadata": {},
   "source": []
  },
  {
   "cell_type": "code",
   "execution_count": 186,
   "metadata": {},
   "outputs": [
    {
     "data": {
      "text/plain": [
       "(413, 28)"
      ]
     },
     "execution_count": 186,
     "metadata": {},
     "output_type": "execute_result"
    }
   ],
   "source": [
    "x_train.shape"
   ]
  },
  {
   "cell_type": "code",
   "execution_count": 155,
   "metadata": {},
   "outputs": [],
   "source": [
    "x_train=x_train.reshape(413,28,1)"
   ]
  },
  {
   "cell_type": "code",
   "execution_count": 204,
   "metadata": {},
   "outputs": [
    {
     "data": {
      "text/plain": [
       "(156, 28)"
      ]
     },
     "execution_count": 204,
     "metadata": {},
     "output_type": "execute_result"
    }
   ],
   "source": [
    "x_test.shape"
   ]
  },
  {
   "cell_type": "code",
   "execution_count": 157,
   "metadata": {},
   "outputs": [],
   "source": [
    "x_test=x_test.reshape(104,28,1)"
   ]
  },
  {
   "cell_type": "code",
   "execution_count": 158,
   "metadata": {},
   "outputs": [
    {
     "data": {
      "text/plain": [
       "(413, 1)"
      ]
     },
     "execution_count": 158,
     "metadata": {},
     "output_type": "execute_result"
    }
   ],
   "source": [
    "y_train.shape"
   ]
  },
  {
   "cell_type": "code",
   "execution_count": 207,
   "metadata": {},
   "outputs": [],
   "source": [
    "x_train = x_train.astype('float32')\n",
    "x_test = x_test.astype('float32')"
   ]
  },
  {
   "cell_type": "code",
   "execution_count": 209,
   "metadata": {},
   "outputs": [],
   "source": [
    "from keras.utils.np_utils import to_categorical"
   ]
  },
  {
   "cell_type": "code",
   "execution_count": 210,
   "metadata": {},
   "outputs": [],
   "source": [
    "y_train = to_categorical(y_train)\n",
    "y_test = to_categorical(y_test)"
   ]
  },
  {
   "cell_type": "code",
   "execution_count": 109,
   "metadata": {},
   "outputs": [],
   "source": [
    "import tensorflow as tf"
   ]
  },
  {
   "cell_type": "code",
   "execution_count": 110,
   "metadata": {},
   "outputs": [],
   "source": [
    "import keras"
   ]
  },
  {
   "cell_type": "code",
   "execution_count": 111,
   "metadata": {},
   "outputs": [],
   "source": [
    "from keras.models import Sequential"
   ]
  },
  {
   "cell_type": "code",
   "execution_count": 112,
   "metadata": {},
   "outputs": [],
   "source": [
    "from keras.layers import Dense"
   ]
  },
  {
   "cell_type": "code",
   "execution_count": 113,
   "metadata": {},
   "outputs": [],
   "source": [
    "from sklearn.metrics import mean_squared_error"
   ]
  },
  {
   "cell_type": "code",
   "execution_count": 114,
   "metadata": {},
   "outputs": [],
   "source": [
    "from keras.layers import Dropout"
   ]
  },
  {
   "cell_type": "code",
   "execution_count": 172,
   "metadata": {},
   "outputs": [],
   "source": [
    "classifier= Sequential()\n"
   ]
  },
  {
   "cell_type": "code",
   "execution_count": 229,
   "metadata": {},
   "outputs": [],
   "source": [
    "classifier = Sequential()\n",
    "#First Hidden Layer\n",
    "classifier.add(Dense(50, activation='relu', kernel_initializer='random_normal', input_dim=28))\n",
    "#Second  Hidden Layer\n",
    "classifier.add(Dense(50, activation='relu', kernel_initializer='random_normal'))\n",
    "#Output Layer\n",
    "classifier.add(Dense(2, activation='sigmoid', kernel_initializer='random_normal'))"
   ]
  },
  {
   "cell_type": "code",
   "execution_count": 162,
   "metadata": {},
   "outputs": [
    {
     "data": {
      "text/plain": [
       "(413, 2)"
      ]
     },
     "execution_count": 162,
     "metadata": {},
     "output_type": "execute_result"
    }
   ],
   "source": [
    "y_train.shape"
   ]
  },
  {
   "cell_type": "code",
   "execution_count": 163,
   "metadata": {},
   "outputs": [
    {
     "data": {
      "text/plain": [
       "(104, 2)"
      ]
     },
     "execution_count": 163,
     "metadata": {},
     "output_type": "execute_result"
    }
   ],
   "source": [
    "y_test.shape"
   ]
  },
  {
   "cell_type": "code",
   "execution_count": 230,
   "metadata": {},
   "outputs": [
    {
     "name": "stdout",
     "output_type": "stream",
     "text": [
      "Model: \"sequential_17\"\n",
      "_________________________________________________________________\n",
      "Layer (type)                 Output Shape              Param #   \n",
      "=================================================================\n",
      "dense_65 (Dense)             (None, 50)                1450      \n",
      "_________________________________________________________________\n",
      "dense_66 (Dense)             (None, 50)                2550      \n",
      "_________________________________________________________________\n",
      "dense_67 (Dense)             (None, 2)                 102       \n",
      "=================================================================\n",
      "Total params: 4,102\n",
      "Trainable params: 4,102\n",
      "Non-trainable params: 0\n",
      "_________________________________________________________________\n"
     ]
    }
   ],
   "source": [
    "classifier.summary()"
   ]
  },
  {
   "cell_type": "code",
   "execution_count": 231,
   "metadata": {},
   "outputs": [],
   "source": [
    "classifier.compile(loss='binary_crossentropy', optimizer='adam', metrics=['accuracy'])"
   ]
  },
  {
   "cell_type": "code",
   "execution_count": 238,
   "metadata": {},
   "outputs": [
    {
     "name": "stdout",
     "output_type": "stream",
     "text": [
      "Train on 361 samples, validate on 156 samples\n",
      "Epoch 1/100\n",
      "361/361 [==============================] - 0s 592us/step - loss: 0.0597 - accuracy: 0.9861 - val_loss: 0.6726 - val_accuracy: 0.8910\n",
      "Epoch 2/100\n",
      "361/361 [==============================] - 0s 642us/step - loss: 0.0810 - accuracy: 0.9751 - val_loss: 0.7181 - val_accuracy: 0.8974\n",
      "Epoch 3/100\n",
      "361/361 [==============================] - 0s 775us/step - loss: 0.0699 - accuracy: 0.9723 - val_loss: 0.7728 - val_accuracy: 0.8686\n",
      "Epoch 4/100\n",
      "361/361 [==============================] - 0s 554us/step - loss: 0.0797 - accuracy: 0.9695 - val_loss: 0.6973 - val_accuracy: 0.8846\n",
      "Epoch 5/100\n",
      "361/361 [==============================] - 0s 637us/step - loss: 0.0749 - accuracy: 0.9668 - val_loss: 0.7179 - val_accuracy: 0.8782\n",
      "Epoch 6/100\n",
      "361/361 [==============================] - 0s 728us/step - loss: 0.0667 - accuracy: 0.9751 - val_loss: 0.6850 - val_accuracy: 0.8974\n",
      "Epoch 7/100\n",
      "361/361 [==============================] - 0s 786us/step - loss: 0.0555 - accuracy: 0.9848 - val_loss: 0.7380 - val_accuracy: 0.8846\n",
      "Epoch 8/100\n",
      "361/361 [==============================] - 0s 814us/step - loss: 0.0603 - accuracy: 0.9751 - val_loss: 0.7187 - val_accuracy: 0.8718\n",
      "Epoch 9/100\n",
      "361/361 [==============================] - 0s 723us/step - loss: 0.0556 - accuracy: 0.9917 - val_loss: 0.8412 - val_accuracy: 0.8590\n",
      "Epoch 10/100\n",
      "361/361 [==============================] - 0s 825us/step - loss: 0.0661 - accuracy: 0.9861 - val_loss: 0.8917 - val_accuracy: 0.8654\n",
      "Epoch 11/100\n",
      "361/361 [==============================] - 0s 797us/step - loss: 0.0786 - accuracy: 0.9723 - val_loss: 0.7436 - val_accuracy: 0.8846\n",
      "Epoch 12/100\n",
      "361/361 [==============================] - 0s 878us/step - loss: 0.0572 - accuracy: 0.9834 - val_loss: 0.8032 - val_accuracy: 0.8718\n",
      "Epoch 13/100\n",
      "361/361 [==============================] - 0s 864us/step - loss: 0.1381 - accuracy: 0.9474 - val_loss: 0.8658 - val_accuracy: 0.8590\n",
      "Epoch 14/100\n",
      "361/361 [==============================] - 0s 734us/step - loss: 0.0817 - accuracy: 0.9695 - val_loss: 0.7128 - val_accuracy: 0.8782\n",
      "Epoch 15/100\n",
      "361/361 [==============================] - 0s 833us/step - loss: 0.0722 - accuracy: 0.9695 - val_loss: 0.7342 - val_accuracy: 0.8590\n",
      "Epoch 16/100\n",
      "361/361 [==============================] - 0s 750us/step - loss: 0.0599 - accuracy: 0.9806 - val_loss: 0.7030 - val_accuracy: 0.8910\n",
      "Epoch 17/100\n",
      "361/361 [==============================] - 0s 789us/step - loss: 0.0445 - accuracy: 0.9917 - val_loss: 0.7494 - val_accuracy: 0.8846\n",
      "Epoch 18/100\n",
      "361/361 [==============================] - 0s 836us/step - loss: 0.0449 - accuracy: 0.9889 - val_loss: 0.8260 - val_accuracy: 0.8718\n",
      "Epoch 19/100\n",
      "361/361 [==============================] - 0s 748us/step - loss: 0.0463 - accuracy: 0.9861 - val_loss: 0.8497 - val_accuracy: 0.8654\n",
      "Epoch 20/100\n",
      "361/361 [==============================] - 0s 1ms/step - loss: 0.0621 - accuracy: 0.9806 - val_loss: 0.8152 - val_accuracy: 0.8782\n",
      "Epoch 21/100\n",
      "361/361 [==============================] - 0s 822us/step - loss: 0.0606 - accuracy: 0.9751 - val_loss: 0.7668 - val_accuracy: 0.8654\n",
      "Epoch 22/100\n",
      "361/361 [==============================] - 0s 858us/step - loss: 0.0425 - accuracy: 0.9917 - val_loss: 0.8072 - val_accuracy: 0.8846\n",
      "Epoch 23/100\n",
      "361/361 [==============================] - 0s 692us/step - loss: 0.0505 - accuracy: 0.9834 - val_loss: 0.8030 - val_accuracy: 0.8782\n",
      "Epoch 24/100\n",
      "361/361 [==============================] - 0s 637us/step - loss: 0.0678 - accuracy: 0.9806 - val_loss: 0.8047 - val_accuracy: 0.8846\n",
      "Epoch 25/100\n",
      "361/361 [==============================] - 0s 659us/step - loss: 0.0592 - accuracy: 0.9778 - val_loss: 0.7082 - val_accuracy: 0.9103\n",
      "Epoch 26/100\n",
      "361/361 [==============================] - 0s 844us/step - loss: 0.1237 - accuracy: 0.9474 - val_loss: 0.7384 - val_accuracy: 0.8686\n",
      "Epoch 27/100\n",
      "361/361 [==============================] - 0s 676us/step - loss: 0.1078 - accuracy: 0.9584 - val_loss: 0.8023 - val_accuracy: 0.8782\n",
      "Epoch 28/100\n",
      "361/361 [==============================] - 0s 651us/step - loss: 0.0608 - accuracy: 0.9723 - val_loss: 0.8217 - val_accuracy: 0.8846\n",
      "Epoch 29/100\n",
      "361/361 [==============================] - 0s 714us/step - loss: 0.0495 - accuracy: 0.9806 - val_loss: 0.7520 - val_accuracy: 0.8910\n",
      "Epoch 30/100\n",
      "361/361 [==============================] - 0s 670us/step - loss: 0.0407 - accuracy: 0.9917 - val_loss: 0.8398 - val_accuracy: 0.8910\n",
      "Epoch 31/100\n",
      "361/361 [==============================] - 0s 698us/step - loss: 0.0419 - accuracy: 0.9861 - val_loss: 0.7998 - val_accuracy: 0.8910\n",
      "Epoch 32/100\n",
      "361/361 [==============================] - 0s 734us/step - loss: 0.0455 - accuracy: 0.9861 - val_loss: 0.7144 - val_accuracy: 0.8974\n",
      "Epoch 33/100\n",
      "361/361 [==============================] - 0s 628us/step - loss: 0.0346 - accuracy: 0.9889 - val_loss: 0.7917 - val_accuracy: 0.8910\n",
      "Epoch 34/100\n",
      "361/361 [==============================] - ETA: 0s - loss: 0.0302 - accuracy: 0.99 - 0s 667us/step - loss: 0.0346 - accuracy: 0.9889 - val_loss: 0.7555 - val_accuracy: 0.8910\n",
      "Epoch 35/100\n",
      "361/361 [==============================] - 0s 659us/step - loss: 0.0323 - accuracy: 0.9945 - val_loss: 0.7330 - val_accuracy: 0.9038\n",
      "Epoch 36/100\n",
      "361/361 [==============================] - 0s 717us/step - loss: 0.0328 - accuracy: 0.9917 - val_loss: 0.7923 - val_accuracy: 0.8910\n",
      "Epoch 37/100\n",
      "361/361 [==============================] - 0s 543us/step - loss: 0.0464 - accuracy: 0.9806 - val_loss: 0.7502 - val_accuracy: 0.8974\n",
      "Epoch 38/100\n",
      "361/361 [==============================] - 0s 518us/step - loss: 0.0332 - accuracy: 0.9945 - val_loss: 0.7789 - val_accuracy: 0.8974\n",
      "Epoch 39/100\n",
      "361/361 [==============================] - 0s 482us/step - loss: 0.0267 - accuracy: 0.9972 - val_loss: 0.8550 - val_accuracy: 0.8910\n",
      "Epoch 40/100\n",
      "361/361 [==============================] - 0s 476us/step - loss: 0.0375 - accuracy: 0.9861 - val_loss: 0.7687 - val_accuracy: 0.9038\n",
      "Epoch 41/100\n",
      "361/361 [==============================] - 0s 559us/step - loss: 0.0293 - accuracy: 0.9958 - val_loss: 0.8754 - val_accuracy: 0.8910\n",
      "Epoch 42/100\n",
      "361/361 [==============================] - 0s 509us/step - loss: 0.0334 - accuracy: 0.9889 - val_loss: 0.8410 - val_accuracy: 0.8846\n",
      "Epoch 43/100\n",
      "361/361 [==============================] - 0s 545us/step - loss: 0.0337 - accuracy: 0.9889 - val_loss: 0.7847 - val_accuracy: 0.8974\n",
      "Epoch 44/100\n",
      "361/361 [==============================] - 0s 534us/step - loss: 0.0326 - accuracy: 0.9945 - val_loss: 0.9266 - val_accuracy: 0.8782\n",
      "Epoch 45/100\n",
      "361/361 [==============================] - 0s 587us/step - loss: 0.0538 - accuracy: 0.9806 - val_loss: 0.7645 - val_accuracy: 0.8974\n",
      "Epoch 46/100\n",
      "361/361 [==============================] - 0s 501us/step - loss: 0.0489 - accuracy: 0.9834 - val_loss: 0.8681 - val_accuracy: 0.8333\n",
      "Epoch 47/100\n",
      "361/361 [==============================] - 0s 581us/step - loss: 0.0573 - accuracy: 0.9723 - val_loss: 0.8339 - val_accuracy: 0.8974\n",
      "Epoch 48/100\n",
      "361/361 [==============================] - 0s 518us/step - loss: 0.0257 - accuracy: 0.9972 - val_loss: 0.8114 - val_accuracy: 0.8974\n",
      "Epoch 49/100\n",
      "361/361 [==============================] - 0s 581us/step - loss: 0.0289 - accuracy: 0.9945 - val_loss: 0.7802 - val_accuracy: 0.9103\n",
      "Epoch 50/100\n",
      "361/361 [==============================] - 0s 496us/step - loss: 0.0279 - accuracy: 0.9917 - val_loss: 0.8190 - val_accuracy: 0.8910\n",
      "Epoch 51/100\n",
      "361/361 [==============================] - 0s 496us/step - loss: 0.0666 - accuracy: 0.9723 - val_loss: 0.7913 - val_accuracy: 0.9103\n",
      "Epoch 52/100\n",
      "361/361 [==============================] - 0s 540us/step - loss: 0.0772 - accuracy: 0.9751 - val_loss: 0.9505 - val_accuracy: 0.8910\n",
      "Epoch 53/100\n",
      "361/361 [==============================] - 0s 592us/step - loss: 0.0761 - accuracy: 0.9668 - val_loss: 0.9749 - val_accuracy: 0.8846\n",
      "Epoch 54/100\n",
      "361/361 [==============================] - 0s 656us/step - loss: 0.0874 - accuracy: 0.9695 - val_loss: 0.8874 - val_accuracy: 0.8654\n",
      "Epoch 55/100\n",
      "361/361 [==============================] - 0s 648us/step - loss: 0.0636 - accuracy: 0.9834 - val_loss: 0.9510 - val_accuracy: 0.8654\n",
      "Epoch 56/100\n",
      "361/361 [==============================] - 0s 656us/step - loss: 0.0448 - accuracy: 0.9778 - val_loss: 0.7945 - val_accuracy: 0.8974\n",
      "Epoch 57/100\n",
      "361/361 [==============================] - 0s 748us/step - loss: 0.0317 - accuracy: 0.9917 - val_loss: 0.8063 - val_accuracy: 0.8942\n",
      "Epoch 58/100\n",
      "361/361 [==============================] - 0s 637us/step - loss: 0.0862 - accuracy: 0.9695 - val_loss: 0.9001 - val_accuracy: 0.8910\n",
      "Epoch 59/100\n",
      "361/361 [==============================] - 0s 653us/step - loss: 0.2441 - accuracy: 0.9141 - val_loss: 0.7977 - val_accuracy: 0.8974\n",
      "Epoch 60/100\n",
      "361/361 [==============================] - 0s 523us/step - loss: 0.0475 - accuracy: 0.9806 - val_loss: 0.9017 - val_accuracy: 0.8782\n",
      "Epoch 61/100\n",
      "361/361 [==============================] - 0s 482us/step - loss: 0.0297 - accuracy: 0.9917 - val_loss: 0.8279 - val_accuracy: 0.8910\n",
      "Epoch 62/100\n",
      "361/361 [==============================] - 0s 579us/step - loss: 0.0264 - accuracy: 0.9889 - val_loss: 0.7765 - val_accuracy: 0.8910\n",
      "Epoch 63/100\n",
      "361/361 [==============================] - 0s 659us/step - loss: 0.0249 - accuracy: 0.9972 - val_loss: 0.7802 - val_accuracy: 0.8974\n",
      "Epoch 64/100\n",
      "361/361 [==============================] - 0s 529us/step - loss: 0.0270 - accuracy: 0.9945 - val_loss: 0.7929 - val_accuracy: 0.9038\n",
      "Epoch 65/100\n",
      "361/361 [==============================] - 0s 559us/step - loss: 0.0253 - accuracy: 0.9945 - val_loss: 0.9104 - val_accuracy: 0.8910\n",
      "Epoch 66/100\n",
      "361/361 [==============================] - 0s 540us/step - loss: 0.0366 - accuracy: 0.9889 - val_loss: 0.8612 - val_accuracy: 0.8910\n",
      "Epoch 67/100\n",
      "361/361 [==============================] - 0s 507us/step - loss: 0.0250 - accuracy: 0.9972 - val_loss: 0.8235 - val_accuracy: 0.8974\n",
      "Epoch 68/100\n",
      "361/361 [==============================] - 0s 601us/step - loss: 0.0191 - accuracy: 0.9972 - val_loss: 0.8198 - val_accuracy: 0.8910\n",
      "Epoch 69/100\n",
      "361/361 [==============================] - 0s 609us/step - loss: 0.0276 - accuracy: 0.9889 - val_loss: 0.8024 - val_accuracy: 0.9103\n",
      "Epoch 70/100\n",
      "361/361 [==============================] - 0s 609us/step - loss: 0.0234 - accuracy: 0.9917 - val_loss: 0.8226 - val_accuracy: 0.8974\n",
      "Epoch 71/100\n",
      "361/361 [==============================] - 0s 637us/step - loss: 0.0251 - accuracy: 0.9972 - val_loss: 0.8250 - val_accuracy: 0.8974\n",
      "Epoch 72/100\n",
      "361/361 [==============================] - 0s 836us/step - loss: 0.0188 - accuracy: 0.9972 - val_loss: 0.9200 - val_accuracy: 0.8910\n",
      "Epoch 73/100\n",
      "361/361 [==============================] - 0s 1ms/step - loss: 0.0327 - accuracy: 0.9861 - val_loss: 0.8272 - val_accuracy: 0.9038\n",
      "Epoch 74/100\n",
      "361/361 [==============================] - 0s 687us/step - loss: 0.0338 - accuracy: 0.9861 - val_loss: 0.8650 - val_accuracy: 0.8846\n",
      "Epoch 75/100\n",
      "361/361 [==============================] - 0s 723us/step - loss: 0.0223 - accuracy: 0.9972 - val_loss: 0.8284 - val_accuracy: 0.8846\n",
      "Epoch 76/100\n",
      "361/361 [==============================] - 0s 806us/step - loss: 0.0251 - accuracy: 0.9945 - val_loss: 0.8395 - val_accuracy: 0.8910\n",
      "Epoch 77/100\n",
      "361/361 [==============================] - 0s 698us/step - loss: 0.0251 - accuracy: 0.9917 - val_loss: 0.8051 - val_accuracy: 0.9103\n",
      "Epoch 78/100\n",
      "361/361 [==============================] - 0s 662us/step - loss: 0.0311 - accuracy: 0.9834 - val_loss: 0.8253 - val_accuracy: 0.9038\n",
      "Epoch 79/100\n",
      "361/361 [==============================] - 0s 825us/step - loss: 0.0227 - accuracy: 0.9972 - val_loss: 0.8687 - val_accuracy: 0.8974\n",
      "Epoch 80/100\n",
      "361/361 [==============================] - 0s 767us/step - loss: 0.0192 - accuracy: 0.9972 - val_loss: 0.8425 - val_accuracy: 0.8910\n",
      "Epoch 81/100\n",
      "361/361 [==============================] - 0s 717us/step - loss: 0.0178 - accuracy: 0.9972 - val_loss: 0.8152 - val_accuracy: 0.9103\n",
      "Epoch 82/100\n",
      "361/361 [==============================] - 0s 764us/step - loss: 0.0169 - accuracy: 0.9972 - val_loss: 0.8664 - val_accuracy: 0.8974\n",
      "Epoch 83/100\n",
      "361/361 [==============================] - 0s 688us/step - loss: 0.0213 - accuracy: 0.9945 - val_loss: 0.9049 - val_accuracy: 0.8910\n",
      "Epoch 84/100\n",
      "361/361 [==============================] - 0s 681us/step - loss: 0.0302 - accuracy: 0.9861 - val_loss: 0.9078 - val_accuracy: 0.8910\n",
      "Epoch 85/100\n",
      "361/361 [==============================] - 0s 673us/step - loss: 0.1721 - accuracy: 0.9584 - val_loss: 0.9896 - val_accuracy: 0.8782\n",
      "Epoch 86/100\n",
      "361/361 [==============================] - 0s 601us/step - loss: 0.1096 - accuracy: 0.9584 - val_loss: 0.8491 - val_accuracy: 0.9167\n",
      "Epoch 87/100\n",
      "361/361 [==============================] - 0s 598us/step - loss: 0.0655 - accuracy: 0.9806 - val_loss: 0.8506 - val_accuracy: 0.8910\n",
      "Epoch 88/100\n",
      "361/361 [==============================] - 0s 517us/step - loss: 0.0397 - accuracy: 0.9834 - val_loss: 0.8551 - val_accuracy: 0.8846\n",
      "Epoch 89/100\n",
      "361/361 [==============================] - 0s 532us/step - loss: 0.0285 - accuracy: 0.9917 - val_loss: 0.8209 - val_accuracy: 0.8846\n",
      "Epoch 90/100\n",
      "361/361 [==============================] - 0s 623us/step - loss: 0.0280 - accuracy: 0.9875 - val_loss: 0.9189 - val_accuracy: 0.8974\n",
      "Epoch 91/100\n",
      "361/361 [==============================] - 0s 663us/step - loss: 0.0382 - accuracy: 0.9861 - val_loss: 0.8939 - val_accuracy: 0.8974\n",
      "Epoch 92/100\n",
      "361/361 [==============================] - 0s 620us/step - loss: 0.0153 - accuracy: 1.0000 - val_loss: 0.8470 - val_accuracy: 0.8910\n",
      "Epoch 93/100\n",
      "361/361 [==============================] - 0s 783us/step - loss: 0.0197 - accuracy: 0.9945 - val_loss: 0.8309 - val_accuracy: 0.9103\n",
      "Epoch 94/100\n",
      "361/361 [==============================] - 0s 551us/step - loss: 0.0190 - accuracy: 0.9945 - val_loss: 0.8424 - val_accuracy: 0.8974\n",
      "Epoch 95/100\n",
      "361/361 [==============================] - 0s 576us/step - loss: 0.0156 - accuracy: 0.9972 - val_loss: 0.8897 - val_accuracy: 0.8910\n",
      "Epoch 96/100\n",
      "361/361 [==============================] - 0s 512us/step - loss: 0.0168 - accuracy: 0.9972 - val_loss: 0.8409 - val_accuracy: 0.9103\n",
      "Epoch 97/100\n",
      "361/361 [==============================] - 0s 648us/step - loss: 0.0214 - accuracy: 0.9945 - val_loss: 0.9052 - val_accuracy: 0.8846\n",
      "Epoch 98/100\n",
      "361/361 [==============================] - 0s 653us/step - loss: 0.0196 - accuracy: 0.9945 - val_loss: 0.9429 - val_accuracy: 0.8974\n",
      "Epoch 99/100\n",
      "361/361 [==============================] - 0s 568us/step - loss: 0.0176 - accuracy: 0.9972 - val_loss: 0.8549 - val_accuracy: 0.9038\n",
      "Epoch 100/100\n",
      "361/361 [==============================] - 0s 623us/step - loss: 0.0151 - accuracy: 0.9972 - val_loss: 0.9326 - val_accuracy: 0.8974\n"
     ]
    },
    {
     "data": {
      "text/plain": [
       "<keras.callbacks.callbacks.History at 0x10eedca30c8>"
      ]
     },
     "execution_count": 238,
     "metadata": {},
     "output_type": "execute_result"
    }
   ],
   "source": [
    "#Fitting the data to the training dataset\n",
    "classifier.fit(x_train,y_train, batch_size=10, epochs=100,validation_data=(x_test,y_test))"
   ]
  },
  {
   "cell_type": "code",
   "execution_count": 239,
   "metadata": {},
   "outputs": [
    {
     "name": "stdout",
     "output_type": "stream",
     "text": [
      "361/361 [==============================] - 0s 72us/step\n"
     ]
    },
    {
     "data": {
      "text/plain": [
       "[0.016716810831428605, 0.9944598078727722]"
      ]
     },
     "execution_count": 239,
     "metadata": {},
     "output_type": "execute_result"
    }
   ],
   "source": [
    "classifier.evaluate(x_train,y_train)"
   ]
  },
  {
   "cell_type": "code",
   "execution_count": 240,
   "metadata": {},
   "outputs": [
    {
     "name": "stdout",
     "output_type": "stream",
     "text": [
      "156/156 [==============================] - 0s 96us/step\n"
     ]
    },
    {
     "data": {
      "text/plain": [
       "[0.9326092646672175, 0.8974359035491943]"
      ]
     },
     "execution_count": 240,
     "metadata": {},
     "output_type": "execute_result"
    }
   ],
   "source": [
    "classifier.evaluate(x_test,y_test)"
   ]
  },
  {
   "cell_type": "code",
   "execution_count": null,
   "metadata": {},
   "outputs": [],
   "source": []
  },
  {
   "cell_type": "code",
   "execution_count": null,
   "metadata": {},
   "outputs": [],
   "source": []
  },
  {
   "cell_type": "code",
   "execution_count": null,
   "metadata": {},
   "outputs": [],
   "source": []
  }
 ],
 "metadata": {
  "kernelspec": {
   "display_name": "Python 3",
   "language": "python",
   "name": "python3"
  },
  "language_info": {
   "codemirror_mode": {
    "name": "ipython",
    "version": 3
   },
   "file_extension": ".py",
   "mimetype": "text/x-python",
   "name": "python",
   "nbconvert_exporter": "python",
   "pygments_lexer": "ipython3",
   "version": "3.7.6"
  }
 },
 "nbformat": 4,
 "nbformat_minor": 4
}
